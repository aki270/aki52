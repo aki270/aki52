{
 "cells": [
  {
   "cell_type": "markdown",
   "metadata": {},
   "source": [
    "# Individual Project Theme 3"
   ]
  },
  {
   "cell_type": "markdown",
   "metadata": {},
   "source": [
    "## Simple Calculator"
   ]
  },
  {
   "cell_type": "markdown",
   "metadata": {},
   "source": [
    "**How to use this notebook and complete the project?**\n",
    "\n",
    "1. You need to answer all required questions by answering in the markdown cell.\n",
    "2. Read the instruction and fill in the #todo sections.\n",
    "3. Run all the cells to store the results of each codes.\n",
    "4. Save this notebook by clicking on `File`, then click `Download as`, choose `HTML`.\n",
    "5. Push this notebook to your GitHub reporitory by creating a new repository, named `AIP_IndividualProject`. Set this repository as `Private` until the day of your submission, which is on *3rd July 2019, 1.30 PM*."
   ]
  },
  {
   "cell_type": "markdown",
   "metadata": {},
   "source": [
    "**Introduction**\n",
    "\n",
    "Imagine you are going to program a simple calculator like the picture below.\n",
    "<img src=\"calculator.png\" width=\"200\" height=\"140\" align=\"left\">\n",
    "Basic calculations for calculator, are addition, subtraction, multiplication and division. Note that the calculator is not going to do a calculation for whole numbers only, decimals are also involved. "
   ]
  },
  {
   "cell_type": "markdown",
   "metadata": {},
   "source": [
    "**Question 1**:\n",
    "\n",
    "Draw a flowchart to write the program of this task. You may draw a flowchart by using *powerpoint*, then save it as a picture in `.jpg` or `.png`. Then, use this command to the *Answer* column below.\n",
    "`<img src=_____.jpg>`"
   ]
  },
  {
   "cell_type": "markdown",
   "metadata": {},
   "source": [
    "**Answer**:"
   ]
  },
  {
   "cell_type": "markdown",
   "metadata": {},
   "source": [
    "**Step 1**:\n",
    "\n",
    "#TODO \n",
    "\n",
    "Ask users for input. We’ll start writing our program at the point where the human enters the numbers that they would like the computer to work with. For this program, we would like the user to input two numbers, so let’s have the program ask for two numbers. When asking for input, we should include a space at the end of our string so that there is a space between the user’s input and the asked string."
   ]
  },
  {
   "cell_type": "code",
   "execution_count": 16,
   "metadata": {},
   "outputs": [
    {
     "name": "stdout",
     "output_type": "stream",
     "text": [
      "Please input two number1 1.5\n",
      "1\n",
      "1.5\n"
     ]
    }
   ],
   "source": [
    "#TODO\n",
    "#Ask user for two inputs\n",
    "\n",
    "number_1, number_2 = input(\"Please input two number\").split()\n",
    "print(number_1)\n",
    "print(number_2)"
   ]
  },
  {
   "cell_type": "markdown",
   "metadata": {},
   "source": [
    "**Step 2**\n",
    "\n",
    "#TODO\n",
    "\n",
    "By using `try` and `except` statement, write down a function to determine whether input numbers are integers or decimals."
   ]
  },
  {
   "cell_type": "code",
   "execution_count": 17,
   "metadata": {},
   "outputs": [
    {
     "name": "stdout",
     "output_type": "stream",
     "text": [
      "<class 'int'> <class 'float'>\n"
     ]
    }
   ],
   "source": [
    "#TODO \n",
    "# determine whether input numbers are integers or decimals.\n",
    "def number_type(number):\n",
    "    try: \n",
    "        number = int(number)\n",
    "    except ValueError:\n",
    "        number = float(number)\n",
    "    return number\n",
    "\n",
    "num_1 = number_type(number_1)\n",
    "num_2 = number_type(number_2)\n",
    "print(type(num_1), type(num_2))\n",
    "\n",
    "#if I input a String in Setp1 there will be Error occured.You need to do if in try like:\n",
    "#def number_type(number):\n",
    "#    try: \n",
    "#       if number == int(number):\n",
    "#            return 'number type is int'\n",
    "#        else:\n",
    "#           return 'type is float'\n",
    "#    except ValueError:\n",
    "#        return 'Invalid Input'\n",
    "\n",
    "\n"
   ]
  },
  {
   "cell_type": "markdown",
   "metadata": {},
   "source": [
    "**Step 3**\n",
    "\n",
    "#TODO\n",
    "\n",
    "We’ll name the function `calculate()` and add an additional layer of indentation within the function itself. Function `calculate()` is defining arithmetic operations."
   ]
  },
  {
   "cell_type": "code",
   "execution_count": 18,
   "metadata": {
    "scrolled": true
   },
   "outputs": [],
   "source": [
    "#TODO\n",
    "\n",
    "def calculate(num_1, num_2, operation):\n",
    "    #addition\n",
    "    if operation == '+':\n",
    "        return num_1 + num_2\n",
    "    #subtraction\n",
    "    elif operation == '-':\n",
    "        return num_1 - num_2\n",
    "    #multiplication\n",
    "    elif operation == '*':\n",
    "        return num_1 * num_2\n",
    "    #division\n",
    "    elif operation == '/':\n",
    "        return num_1 / num_2\n",
    "\n",
    "    return None\n",
    "\n",
    "#If I input something is not \"+,-,*,/\" in operation.this function will return nothing.But for the users they cannnot see the code if users\n",
    "#input something like \"(),1,s,d\" they will see nothing in the console.and users may thing \"what's wrong with this . That shows nothing\".\n",
    "#I think you shoul add a else in the last to show if the users input the Invalid Value\n",
    "#def calculate(num_1, num_2, operation):\n",
    "    #addition\n",
    "#    if operation == '+':\n",
    "#        return num_1 + num_2\n",
    "    #subtraction\n",
    "#    elif operation == '-':\n",
    "#        return num_1 - num_2\n",
    "    #multiplication\n",
    "#    elif operation == '*':\n",
    "#        return num_1 * num_2\n",
    "    #division\n",
    "#    elif operation == '/':\n",
    "#        return num_1 / num_2\n",
    "#    else:\n",
    "#        return 'Invalid Input.Please try again'\n"
   ]
  },
  {
   "cell_type": "markdown",
   "metadata": {},
   "source": [
    "**Step 4**\n",
    "\n",
    "#TODO\n",
    "\n",
    "Define an `again()` function to ask user either he/she wants to do a a calculation again or not."
   ]
  },
  {
   "cell_type": "code",
   "execution_count": 19,
   "metadata": {},
   "outputs": [],
   "source": [
    "#TODO\n",
    "def again(calc_again, previous):\n",
    "    if calc_again.upper() == 'YY' or calc_again.upper()  == 'Y':\n",
    "        operation = input(\"Please type the operation that you would like to complete (+, -, * or /): \")\n",
    "        num_2 = input(\"Please input a num\")\n",
    "        num_2 = number_type(num_2)\n",
    "        return calculate(previous, num_2, operation)\n",
    "    else:\n",
    "        return 'See you later.'"
   ]
  },
  {
   "cell_type": "markdown",
   "metadata": {},
   "source": [
    "**Step 5**\n",
    "\n",
    "Write a `while` loop to operate the calculator until it says No and `break` the loop."
   ]
  },
  {
   "cell_type": "code",
   "execution_count": 22,
   "metadata": {},
   "outputs": [
    {
     "name": "stdout",
     "output_type": "stream",
     "text": [
      "Please type the operation that you would like to complete (+, -, * or /): +\n",
      "2.5\n",
      "Are you want to do a a calculation again?k\n"
     ]
    }
   ],
   "source": [
    "operation = input(\"Please type the operation that you would like to complete (+, -, * or /): \")\n",
    "result = calculate(num_1, num_2, operation)\n",
    "print(result)\n",
    "\n",
    "#TODO\n",
    "while True:             # Loop continuously\n",
    "    calc_again = input(\"Are you want to do a a calculation again?\")\n",
    "    result = again(calc_again, result)\n",
    "    if result == 'See you later.' or result is None:\n",
    "        break\n",
    "    print(result)\n",
    "    \n",
    "#the calc_agin is a input. But what to input is unknown.Change it up to the again funtion below\n",
    "#calc_again = input(\"Are you want to do a a calculation again? (yes : y/anything else to quit)\")\n",
    "#so that users can know \"I need to input y to continue or input something else to quit this program\"\n",
    "\n",
    "#and at the last of the code if I choose quit and I will get nothing on the console\n",
    "#just change position of break and print(result) like below:\n",
    "#    if result == 'See you later.' or result is None:\n",
    "#        print(result)\n",
    "#        break\n",
    "#That will shows 'see you later' on the console That users will konw that this program is done"
   ]
  },
  {
   "cell_type": "markdown",
   "metadata": {},
   "source": [
    "**BONUS**\n",
    "\n",
    "Add complicated operations in your calculator. For example, calculation a square root or root of a number by using $\\surd$"
   ]
  },
  {
   "cell_type": "code",
   "execution_count": 25,
   "metadata": {},
   "outputs": [
    {
     "name": "stdout",
     "output_type": "stream",
     "text": [
      "Please enter a number： 16\n",
      " The square root of 16.000 is 4.000\n"
     ]
    }
   ],
   "source": [
    "#Calculator a square root\n",
    "num = float(input('Please enter a number： '))\n",
    "num_sqrt = num ** number\n",
    "print(' The square root of %0.3f is %0.3f'%(num ,num_sqrt))\n",
    "\n",
    "#To get root of a number we got some problem whit the num_sqrt and change it to below:\n",
    "#num = float(input('Please enter a number： '))\n",
    "#num_sqrt = num ** 0.5\n",
    "#print(' The square root of %0.3f is %0.3f'%(num ,num_sqrt))"
   ]
  },
  {
   "cell_type": "markdown",
   "metadata": {},
   "source": [
    "**Question 2**:\n",
    "\n",
    "How would you like to improve your calculator codes?"
   ]
  },
  {
   "cell_type": "markdown",
   "metadata": {},
   "source": [
    "**Answer**:"
   ]
  }
 ],
 "metadata": {
  "kernelspec": {
   "display_name": "Python 3",
   "language": "python",
   "name": "python3"
  },
  "language_info": {
   "codemirror_mode": {
    "name": "ipython",
    "version": 3
   },
   "file_extension": ".py",
   "mimetype": "text/x-python",
   "name": "python",
   "nbconvert_exporter": "python",
   "pygments_lexer": "ipython3",
   "version": "3.7.3"
  }
 },
 "nbformat": 4,
 "nbformat_minor": 2
}
